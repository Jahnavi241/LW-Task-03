{
 "cells": [
  {
   "cell_type": "code",
   "execution_count": null,
   "id": "f0c0dfcd",
   "metadata": {},
   "outputs": [],
   "source": [
    "import socket,cv2,pickle,struct\n",
    "\n",
    "# Ipv4 and TCP connetion protocol\n",
    "client_socket = socket.socket(socket.AF_INET,socket.SOCK_STREAM)\n",
    "\n",
    "#Ipv4 of Base Os\n",
    "host_ip = '192.168.43.242' \n",
    "port = 8080\n",
    "print(\"\\n*****Socket Created*********\\n\") # socket = ip:port\n",
    "\n",
    "#connect the client with this socket\n",
    "client_socket.connect((host_ip,port))\n",
    "data = b\"\"\n",
    "payload_size = struct.calcsize(\"Q\") #calcsize() This function calculates the size of the String representation of struct with a given format string.\n",
    "print(\"Socket Accept\")\n",
    "\n",
    "\n",
    "while True:\n",
    "    while len(data) < payload_size:\n",
    "        packet = client_socket.recv(4*1024) # 4K\n",
    "        if not packet: break\n",
    "        data+=packet\n",
    "    \n",
    "    packed_msg_size = data[:payload_size]\n",
    "    data = data[payload_size:]\n",
    "    \n",
    "    msg_size = struct.unpack(\"Q\",packed_msg_size)[0]\n",
    "    \n",
    "    while len(data) < msg_size:\n",
    "        data += client_socket.recv(4*1024)\n",
    "    frame_data = data[:msg_size]\n",
    "    data  = data[msg_size:]\n",
    "    # To serialize an object hierarchy, you simply call the dumps() function. Similarly, to de-serialize a data stream, you call the loads() function\n",
    "    frame = pickle.loads(frame_data)\n",
    "    cv2.imshow(\"Receving the video from server\",frame)\n",
    "    if cv2.waitKey(1) & 0xFF  == ord('q'):\n",
    "        break\n",
    "client_socket.close()"
   ]
  },
  {
   "cell_type": "code",
   "execution_count": null,
   "id": "fda1049e",
   "metadata": {},
   "outputs": [],
   "source": []
  }
 ],
 "metadata": {
  "kernelspec": {
   "display_name": "Python 3",
   "language": "python",
   "name": "python3"
  },
  "language_info": {
   "codemirror_mode": {
    "name": "ipython",
    "version": 3
   },
   "file_extension": ".py",
   "mimetype": "text/x-python",
   "name": "python",
   "nbconvert_exporter": "python",
   "pygments_lexer": "ipython3",
   "version": "3.8.8"
  }
 },
 "nbformat": 4,
 "nbformat_minor": 5
}
