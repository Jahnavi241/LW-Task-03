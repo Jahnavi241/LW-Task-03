{
 "cells": [
  {
   "cell_type": "code",
   "execution_count": null,
   "id": "c6e3f8b6",
   "metadata": {},
   "outputs": [],
   "source": [
    "import socket, cv2, pickle,struct\n",
    "\n",
    "server_socket = socket.socket(socket.AF_INET,socket.SOCK_STREAM) \n",
    "\n",
    "port = 8080\n",
    "socket_address = ('192.168.43.242',port)\n",
    "print(\"\\n*********Socket Created*********\\n\")\n",
    "\n",
    "server_socket.bind(socket_address)\n",
    "print(\"\\n*******Socket Bind Successfully******\\n\")\n",
    "\n",
    "server_socket.listen(5)\n",
    "print(\"\\nLISTENING AT:\",socket_address)\n",
    "\n",
    "\n",
    "print(\"\\nSocket Accept\\n\")\n",
    "\n",
    "while True:\n",
    "    client_socket,addr = server_socket.accept()\n",
    "    print('CONNECTION FROM:',addr)\n",
    "    if client_socket:\n",
    "        vid = cv2.VideoCapture(0)\n",
    "        \n",
    "        while(vid.isOpened()):\n",
    "            img,frame = vid.read()\n",
    "            #To store data using Python pickle. To do so, we have to import the pickle module first. Then use pickle. dump() function to store the object data to the file.\n",
    "            a = pickle.dumps(frame) \n",
    "            message = struct.pack(\"Q\",len(a))+a\n",
    "            client_socket.sendall(message)\n",
    "            cv2.imshow('Transmitting the video to client',frame)\n",
    "            if cv2.waitKey(1) & 0xFF ==ord('q'):\n",
    "                client_socket.close()"
   ]
  },
  {
   "cell_type": "code",
   "execution_count": null,
   "id": "9fe30f76",
   "metadata": {},
   "outputs": [],
   "source": []
  }
 ],
 "metadata": {
  "kernelspec": {
   "display_name": "Python 3",
   "language": "python",
   "name": "python3"
  },
  "language_info": {
   "codemirror_mode": {
    "name": "ipython",
    "version": 3
   },
   "file_extension": ".py",
   "mimetype": "text/x-python",
   "name": "python",
   "nbconvert_exporter": "python",
   "pygments_lexer": "ipython3",
   "version": "3.8.8"
  }
 },
 "nbformat": 4,
 "nbformat_minor": 5
}
